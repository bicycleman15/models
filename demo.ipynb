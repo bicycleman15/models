{
 "cells": [
  {
   "cell_type": "code",
   "execution_count": 5,
   "metadata": {},
   "outputs": [],
   "source": [
    "from PIL import Image\n",
    "import numpy as np\n",
    "\n",
    "import ivy\n",
    "from ivy_models.transformers.perceiver_io import PerceiverIOSpec, PerceiverIO"
   ]
  },
  {
   "cell_type": "code",
   "execution_count": 2,
   "metadata": {},
   "outputs": [],
   "source": [
    "ivy.set_backend(\"torch\")"
   ]
  },
  {
   "cell_type": "code",
   "execution_count": 11,
   "metadata": {},
   "outputs": [],
   "source": [
    "# params\n",
    "# whether to load pretrained model weights or not\n",
    "load_pretrained_weights = False\n",
    "\n",
    "input_dim = 3\n",
    "num_input_axes = 2\n",
    "output_dim = 1000\n",
    "network_depth = 8 if load_pretrained_weights else 1\n",
    "num_lat_att_per_layer = 6 if load_pretrained_weights else 1\n",
    "device = \"cpu\"\n",
    "learn_query = [True]\n",
    "batch_shape = [1]\n",
    "img_dims = [224, 224]\n",
    "queries_dim = 1024"
   ]
  },
  {
   "cell_type": "code",
   "execution_count": 7,
   "metadata": {},
   "outputs": [
    {
     "name": "stdout",
     "output_type": "stream",
     "text": [
      "(224, 224, 3)\n"
     ]
    }
   ],
   "source": [
    "# prepare image for classification\n",
    "img_raw = Image.open(\"n01443537_goldfish.jpeg\").resize((224, 224))\n",
    "\n",
    "def normalize_and_standardize(img_raw:Image, mean=[0.5, 0.5, 0.5], std=[0.5, 0.5, 0.5]):\n",
    "    img = np.array(img_raw)\n",
    "    img = img.astype(\"float32\")\n",
    "    img /= 255\n",
    "\n",
    "    mean = np.array(mean)\n",
    "    std = np.array(std)\n",
    "\n",
    "    img[:, :] -= mean\n",
    "    img[:, :] /= std\n",
    "    return img\n",
    "\n",
    "img_arr = normalize_and_standardize(img_raw)\n",
    "\n",
    "img = ivy.array(img_arr[None], dtype='float32', device=device) # (1, 224, 224, 3)"
   ]
  },
  {
   "cell_type": "code",
   "execution_count": 13,
   "metadata": {},
   "outputs": [],
   "source": [
    "model = PerceiverIO(PerceiverIOSpec(input_dim=input_dim,\n",
    "                                    num_input_axes=num_input_axes,\n",
    "                                    output_dim=output_dim,\n",
    "                                    queries_dim=queries_dim,\n",
    "                                    network_depth=network_depth,\n",
    "                                    learn_query=learn_query,\n",
    "                                    query_shape=[1],\n",
    "                                    num_fourier_freq_bands=64,\n",
    "                                    num_lat_att_per_layer=num_lat_att_per_layer,\n",
    "                                    device=device))"
   ]
  },
  {
   "cell_type": "code",
   "execution_count": 14,
   "metadata": {},
   "outputs": [],
   "source": [
    "queries = None if learn_query else ivy.random_uniform(shape=batch_shape + [1, queries_dim], device=device)\n",
    "logits = model(img, queries=queries) # (1, 1, 1000)"
   ]
  },
  {
   "cell_type": "code",
   "execution_count": 21,
   "metadata": {},
   "outputs": [],
   "source": [
    "# get the ImageNet class ID\n",
    "predicted_class = ivy.argmax(logits[0][0])\n",
    "predicted_probability = ivy.softmax(logits[0][0])[predicted_class]"
   ]
  },
  {
   "cell_type": "code",
   "execution_count": 23,
   "metadata": {},
   "outputs": [
    {
     "name": "stdout",
     "output_type": "stream",
     "text": [
      "Models predicts class ivy.array(792) with ivy.array(0.0112668) probability\n"
     ]
    }
   ],
   "source": [
    "print(\"Models predicts class {} with {} probability\".format(predicted_class, predicted_probability))"
   ]
  },
  {
   "cell_type": "code",
   "execution_count": null,
   "metadata": {},
   "outputs": [],
   "source": []
  }
 ],
 "metadata": {
  "kernelspec": {
   "display_name": "Python 3.8.10 64-bit",
   "language": "python",
   "name": "python3"
  },
  "language_info": {
   "codemirror_mode": {
    "name": "ipython",
    "version": 3
   },
   "file_extension": ".py",
   "mimetype": "text/x-python",
   "name": "python",
   "nbconvert_exporter": "python",
   "pygments_lexer": "ipython3",
   "version": "3.8.10"
  },
  "orig_nbformat": 4,
  "vscode": {
   "interpreter": {
    "hash": "916dbcbb3f70747c44a77c7bcd40155683ae19c65e1c03b4aa3499c5328201f1"
   }
  }
 },
 "nbformat": 4,
 "nbformat_minor": 2
}
